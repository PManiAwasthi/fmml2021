{
  "nbformat": 4,
  "nbformat_minor": 0,
  "metadata": {
    "colab": {
      "name": "08 File Processing.ipynb",
      "provenance": [],
      "include_colab_link": true
    },
    "kernelspec": {
      "name": "python3",
      "display_name": "Python 3"
    },
    "language_info": {
      "name": "python"
    }
  },
  "cells": [
    {
      "cell_type": "markdown",
      "metadata": {
        "id": "view-in-github",
        "colab_type": "text"
      },
      "source": [
        "<a href=\"https://colab.research.google.com/github/PManiAwasthi/fmml2021/blob/main/08_File_Processing.ipynb\" target=\"_parent\"><img src=\"https://colab.research.google.com/assets/colab-badge.svg\" alt=\"Open In Colab\"/></a>"
      ]
    },
    {
      "cell_type": "code",
      "metadata": {
        "id": "on0OBs9S-eiS",
        "outputId": "4ecfec39-003e-4785-a0b5-affff9c2545c",
        "colab": {
          "base_uri": "https://localhost:8080/"
        }
      },
      "source": [
        "!wget https://raw.githubusercontent.com/aosp-mirror/platform_external_protobuf/master/CONTRIBUTORS.txt"
      ],
      "execution_count": 1,
      "outputs": [
        {
          "output_type": "stream",
          "name": "stdout",
          "text": [
            "--2021-09-03 09:38:41--  https://raw.githubusercontent.com/aosp-mirror/platform_external_protobuf/master/CONTRIBUTORS.txt\n",
            "Resolving raw.githubusercontent.com (raw.githubusercontent.com)... 185.199.108.133, 185.199.109.133, 185.199.110.133, ...\n",
            "Connecting to raw.githubusercontent.com (raw.githubusercontent.com)|185.199.108.133|:443... connected.\n",
            "HTTP request sent, awaiting response... 200 OK\n",
            "Length: 3924 (3.8K) [text/plain]\n",
            "Saving to: ‘CONTRIBUTORS.txt’\n",
            "\n",
            "\rCONTRIBUTORS.txt      0%[                    ]       0  --.-KB/s               \rCONTRIBUTORS.txt    100%[===================>]   3.83K  --.-KB/s    in 0s      \n",
            "\n",
            "2021-09-03 09:38:42 (49.1 MB/s) - ‘CONTRIBUTORS.txt’ saved [3924/3924]\n",
            "\n"
          ]
        }
      ]
    },
    {
      "cell_type": "code",
      "metadata": {
        "id": "Rg5LcpidAP7I"
      },
      "source": [
        "infile_pointer = open(\"CONTRIBUTORS.txt\", \"r\")\n",
        "outfile_pointer = open(\"emails-id.txt\", \"w\")"
      ],
      "execution_count": 2,
      "outputs": []
    },
    {
      "cell_type": "code",
      "metadata": {
        "id": "4yocH5ViAb-g",
        "outputId": "5ffc7493-4b1c-4324-a2ae-71827b354dec",
        "colab": {
          "base_uri": "https://localhost:8080/"
        }
      },
      "source": [
        "for each_line in infile_pointer:\n",
        "  if (each_line.count('@') > 0) and (each_line.count('<') > 0):\n",
        "      print (each_line)\n",
        "      outfile_pointer.write(each_line)\n",
        "infile_pointer.close()\n",
        "outfile_pointer.close()"
      ],
      "execution_count": 3,
      "outputs": [
        {
          "output_type": "stream",
          "name": "stdout",
          "text": [
            "  Sanjay Ghemawat <sanjay@google.com>\n",
            "\n",
            "  Jeff Dean <jeff@google.com>\n",
            "\n",
            "  Daniel Dulitz <daniel@google.com>\n",
            "\n",
            "  Paul Haahr <haahr@google.com>\n",
            "\n",
            "  Corey Anderson <corin@google.com>\n",
            "\n",
            "  Kenton Varda <kenton@google.com>\n",
            "\n",
            "  Will Robinson <robinson@google.com>\n",
            "\n",
            "  Petar Petrov <petar@google.com>\n",
            "\n",
            "  Brian Duff <bduff@google.com>\n",
            "\n",
            "  Tom Chao <chaot@google.com>\n",
            "\n",
            "  Max Cai <maxtroy@google.com>\n",
            "\n",
            "  Ulas Kirazci <ulas@google.com>\n",
            "\n",
            "  Jason Hsueh <jasonh@google.com>\n",
            "\n",
            "  Joseph Schorr <jschorr@google.com>\n",
            "\n",
            "  Wenbo Zhu <wenboz@google.com>\n",
            "\n",
            "  Scott Bruce <sbruce@google.com>\n",
            "\n",
            "  Neal Norwitz <nnorwitz@google.com>\n",
            "\n",
            "  Jeffrey Yasskin <jyasskin@google.com>\n",
            "\n",
            "  Ambrose Feinstein <ambrose@google.com>\n",
            "\n",
            "  Lisa Carey <lcarey@google.com>\n",
            "\n",
            "  Gregory Kick <gak@google.com>\n",
            "\n",
            "  Kevin Ko <kevin.s.ko@gmail.com>\n",
            "\n",
            "  Johan Euphrosine <proppy@aminche.com>\n",
            "\n",
            "  Ulrich Kunitz <kune@deine-taler.de>\n",
            "\n",
            "  Leandro Lucarella <llucax@gmail.com>\n",
            "\n",
            "  Dilip Joseph <dilip.antony.joseph@gmail.com>\n",
            "\n",
            "  Brian Atkinson <nairb774@gmail.com>\n",
            "\n",
            "  Vincent Choinière <Choiniere.Vincent@hydro.qc.ca>\n",
            "\n",
            "  Monty Taylor <monty.taylor@gmail.com>\n",
            "\n",
            "  Alek Storm <alek.storm@gmail.com>\n",
            "\n",
            "  Oleg Smolsky <oleg.smolsky@gmail.com>\n",
            "\n",
            "  Brian Olson <brianolson@google.com>\n",
            "\n",
            "  Michael Poole <mdpoole@troilus.org>\n",
            "\n",
            "  Wink Saville <wink@google.com>\n",
            "\n",
            "  Will Pierce <willp@nuclei.com>\n",
            "\n",
            "  Alexandre Vassalotti <alexandre@peadrop.com>\n",
            "\n",
            "  Scott Stafford <scott.stafford@gmail.com>\n",
            "\n",
            "  Alexander Melnikov <alm@sibmail.ru>\n",
            "\n",
            "  Oliver Jowett <oliver.jowett@gmail.com>\n",
            "\n",
            "  Evan Jones <evanj@mit.edu>\n",
            "\n",
            "  Michael Kucharski <m.kucharski@gmail.com>\n",
            "\n",
            "  Kacper Kowalik <xarthisius.kk@gmail.com>\n",
            "\n",
            "  William Orr <will@worrbase.com>\n",
            "\n",
            "  Andrew Paprocki <andrew@ishiboo.com>\n",
            "\n"
          ]
        }
      ]
    },
    {
      "cell_type": "code",
      "metadata": {
        "id": "jcMUd4hNCQiU",
        "outputId": "5cd92e3f-fcbe-4f44-e88f-b0ffcbfb23a4",
        "colab": {
          "base_uri": "https://localhost:8080/"
        }
      },
      "source": [
        "!wget https://github.com/mysql/mysql-server/blob/8.0/Docs/sp-imp-spec.txt\n",
        "# Write a program to save all lines that start with '-' in a separate file\n",
        "# Ignore all leading blank characters."
      ],
      "execution_count": 4,
      "outputs": [
        {
          "output_type": "stream",
          "name": "stdout",
          "text": [
            "--2021-09-03 09:39:57--  https://github.com/mysql/mysql-server/blob/8.0/Docs/sp-imp-spec.txt\n",
            "Resolving github.com (github.com)... 140.82.114.3\n",
            "Connecting to github.com (github.com)|140.82.114.3|:443... connected.\n",
            "HTTP request sent, awaiting response... 200 OK\n",
            "Length: unspecified [text/html]\n",
            "Saving to: ‘sp-imp-spec.txt’\n",
            "\n",
            "\rsp-imp-spec.txt         [<=>                 ]       0  --.-KB/s               \rsp-imp-spec.txt         [ <=>                ] 364.08K  --.-KB/s    in 0.02s   \n",
            "\n",
            "2021-09-03 09:39:57 (15.3 MB/s) - ‘sp-imp-spec.txt’ saved [372818]\n",
            "\n"
          ]
        }
      ]
    },
    {
      "cell_type": "markdown",
      "metadata": {
        "id": "CzILoddNaWPQ"
      },
      "source": [
        "Reference: [Official Python Documentation](https://docs.python.org/3/tutorial/inputoutput.html)\n",
        "\n",
        "String methods: [Link](https://www.w3schools.com/python/python_ref_string.asp)"
      ]
    },
    {
      "cell_type": "code",
      "metadata": {
        "id": "3pf2A-a9B4S5"
      },
      "source": [
        "input_file = open(\"sp-imp-spec.txt\",'r')\n"
      ],
      "execution_count": 27,
      "outputs": []
    },
    {
      "cell_type": "code",
      "metadata": {
        "id": "10H--f75CeZo"
      },
      "source": [
        "lines = []\n",
        "for line in input_file:\n",
        "  lines.append(str(line))"
      ],
      "execution_count": 28,
      "outputs": []
    },
    {
      "cell_type": "code",
      "metadata": {
        "id": "zB04nZvGE2us"
      },
      "source": [
        ""
      ],
      "execution_count": 29,
      "outputs": []
    },
    {
      "cell_type": "code",
      "metadata": {
        "id": "Xj863q9sB_7l"
      },
      "source": [
        "import re\n",
        "new_lines = []\n",
        "for line in lines:\n",
        "  cleantext = re.sub('<.*?>', '', line)\n",
        "  if \"-\" in cleantext:\n",
        "    new_lines.append(cleantext)"
      ],
      "execution_count": 30,
      "outputs": []
    },
    {
      "cell_type": "code",
      "metadata": {
        "id": "Qx6I4oMbCuBs"
      },
      "source": [
        "new_lines2 = []\n",
        "for line in new_lines:\n",
        "  str1 = \"\"\n",
        "  for j in line:\n",
        "    if j != \" \":\n",
        "      str1 += j\n",
        "  new_lines2.append(str1)"
      ],
      "execution_count": 32,
      "outputs": []
    },
    {
      "cell_type": "code",
      "metadata": {
        "id": "Pj38w-INHWHM"
      },
      "source": [
        "final_list = []"
      ],
      "execution_count": 35,
      "outputs": []
    },
    {
      "cell_type": "code",
      "metadata": {
        "id": "De2y-L3mDo3c"
      },
      "source": [
        "for i in range(0, len(new_lines2)):\n",
        "  if new_lines2[i][0] == \"-\":\n",
        "    final_list.append(new_lines[i])"
      ],
      "execution_count": 37,
      "outputs": []
    },
    {
      "cell_type": "code",
      "metadata": {
        "id": "G8wpx-XtHltS"
      },
      "source": [
        "output_file = open(\"sep-output-file\",\"w\")"
      ],
      "execution_count": 39,
      "outputs": []
    },
    {
      "cell_type": "code",
      "metadata": {
        "id": "xz50hjMbG45g"
      },
      "source": [
        "for line in final_list:\n",
        "  output_file.write(line)"
      ],
      "execution_count": 40,
      "outputs": []
    },
    {
      "cell_type": "code",
      "metadata": {
        "id": "2eKOtc-aHcaS"
      },
      "source": [
        "input_file.close()\n",
        "output_file.close()"
      ],
      "execution_count": 41,
      "outputs": []
    },
    {
      "cell_type": "code",
      "metadata": {
        "id": "BNefLO-EHy4L"
      },
      "source": [
        ""
      ],
      "execution_count": null,
      "outputs": []
    }
  ]
}